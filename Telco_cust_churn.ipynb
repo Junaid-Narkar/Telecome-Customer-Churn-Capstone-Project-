{
  "nbformat": 4,
  "nbformat_minor": 0,
  "metadata": {
    "colab": {
      "name": "Aniket_Ramdas_Mohite_(mc).ipynb",
      "provenance": [],
      "collapsed_sections": []
    },
    "kernelspec": {
      "name": "python3",
      "display_name": "Python 3"
    },
    "language_info": {
      "name": "python"
    }
  },
  "cells": [
    {
      "cell_type": "markdown",
      "source": [
        "#This dataset is about a fictional telco company that provided home phone and Internet services to 7043 customers in California in Quarter 3 of the fiscal year."
      ],
      "metadata": {
        "id": "rjpLQfNU58TK"
      }
    },
    {
      "cell_type": "code",
      "execution_count": 2,
      "metadata": {
        "id": "822VRaKHCMKM"
      },
      "outputs": [],
      "source": [
        "#Importing all the libraries \n",
        "import pandas as pd\n",
        "import numpy as np\n",
        "from numpy import random as rd\n",
        "from matplotlib import pyplot as plt\n",
        "import seaborn as sns\n",
        "import random\n",
        "import re\n",
        "\n"
      ]
    },
    {
      "cell_type": "code",
      "source": [
        "#Installing pyspark\n",
        "!pip install pyspark"
      ],
      "metadata": {
        "colab": {
          "base_uri": "https://localhost:8080/"
        },
        "id": "kQ7dkpZp5SDx",
        "outputId": "8cd9af74-b6b9-44a6-ef91-188b929da2a9"
      },
      "execution_count": 1,
      "outputs": [
        {
          "output_type": "stream",
          "name": "stdout",
          "text": [
            "Looking in indexes: https://pypi.org/simple, https://us-python.pkg.dev/colab-wheels/public/simple/\n",
            "Collecting pyspark\n",
            "  Downloading pyspark-3.3.0.tar.gz (281.3 MB)\n",
            "\u001b[K     |████████████████████████████████| 281.3 MB 42 kB/s \n",
            "\u001b[?25hCollecting py4j==0.10.9.5\n",
            "  Downloading py4j-0.10.9.5-py2.py3-none-any.whl (199 kB)\n",
            "\u001b[K     |████████████████████████████████| 199 kB 61.4 MB/s \n",
            "\u001b[?25hBuilding wheels for collected packages: pyspark\n",
            "  Building wheel for pyspark (setup.py) ... \u001b[?25l\u001b[?25hdone\n",
            "  Created wheel for pyspark: filename=pyspark-3.3.0-py2.py3-none-any.whl size=281764026 sha256=64585ba74dcbdd6199f18048d8bc28af14d775c18a6ffc35ac7fc6127b75f77c\n",
            "  Stored in directory: /root/.cache/pip/wheels/7a/8e/1b/f73a52650d2e5f337708d9f6a1750d451a7349a867f928b885\n",
            "Successfully built pyspark\n",
            "Installing collected packages: py4j, pyspark\n",
            "Successfully installed py4j-0.10.9.5 pyspark-3.3.0\n"
          ]
        }
      ]
    },
    {
      "cell_type": "markdown",
      "source": [
        "# Creating Environment for pyspark"
      ],
      "metadata": {
        "id": "rf-AL1si5ywg"
      }
    },
    {
      "cell_type": "code",
      "source": [
        "from pyspark import SparkContext,SparkConf\n",
        "from pyspark.sql import SparkSession\n",
        "from pyspark.sql import SQLContext\n",
        "conf=SparkConf().setAppName('test')\n",
        "sc=SparkContext(conf=conf)\n",
        "spark=SparkSession.builder.appName('test').getOrCreate()\n",
        "sqlcontext=SQLContext(sc)"
      ],
      "metadata": {
        "colab": {
          "base_uri": "https://localhost:8080/"
        },
        "id": "L9wHIyBI67AB",
        "outputId": "62bd5994-8871-4962-a0bf-a539b211ce3e"
      },
      "execution_count": 3,
      "outputs": [
        {
          "output_type": "stream",
          "name": "stderr",
          "text": [
            "/usr/local/lib/python3.7/dist-packages/pyspark/sql/context.py:114: FutureWarning: Deprecated in 3.0.0. Use SparkSession.builder.getOrCreate() instead.\n",
            "  FutureWarning,\n"
          ]
        }
      ]
    },
    {
      "cell_type": "code",
      "source": [
        "#First I am trying to clean the data using the pandas library available in pythhon .The steps followed below are for the same purpose."
      ],
      "metadata": {
        "id": "9uACrMxXFqFN"
      },
      "execution_count": null,
      "outputs": []
    },
    {
      "cell_type": "code",
      "source": [
        "df = pd.read_excel('/content/Telco_customer_churn.xlsx')\n",
        "df.head().T # df.head() is used to display the first 5 rows of your dataset.You can also choose to display as many rows as you want by passing values inside \n",
        "#the parenthesis. For eg: df.head(15) will display the first 15 rows of your dataset"
      ],
      "metadata": {
        "colab": {
          "base_uri": "https://localhost:8080/",
          "height": 1000
        },
        "id": "-JejSQzICtf5",
        "outputId": "addf0a5e-3176-4d20-9905-c7226b5b94ce"
      },
      "execution_count": 4,
      "outputs": [
        {
          "output_type": "execute_result",
          "data": {
            "text/plain": [
              "                                              0                      1  \\\n",
              "CustomerID                           3668-QPYBK             9237-HQITU   \n",
              "Count                                         1                      1   \n",
              "Country                           United States          United States   \n",
              "State                                California             California   \n",
              "City                                Los Angeles            Los Angeles   \n",
              "Zip Code                                  90003                  90005   \n",
              "Lat Long                 33.964131, -118.272783  34.059281, -118.30742   \n",
              "Latitude                              33.964131              34.059281   \n",
              "Longitude                           -118.272783             -118.30742   \n",
              "Gender                                     Male                 Female   \n",
              "Senior Citizen                               No                     No   \n",
              "Partner                                      No                     No   \n",
              "Dependents                                   No                    Yes   \n",
              "Tenure Months                                 2                      2   \n",
              "Phone Service                               Yes                    Yes   \n",
              "Multiple Lines                               No                     No   \n",
              "Internet Service                            DSL            Fiber optic   \n",
              "Online Security                             Yes                     No   \n",
              "Online Backup                               Yes                     No   \n",
              "Device Protection                            No                     No   \n",
              "Tech Support                                 No                     No   \n",
              "Streaming TV                                 No                     No   \n",
              "Streaming Movies                             No                     No   \n",
              "Contract                         Month-to-month         Month-to-month   \n",
              "Paperless Billing                           Yes                    Yes   \n",
              "Payment Method                     Mailed check       Electronic check   \n",
              "Monthly Charges                           53.85                   70.7   \n",
              "Total Charges                            108.15                 151.65   \n",
              "Churn Label                                 Yes                    Yes   \n",
              "Churn Value                                   1                      1   \n",
              "Churn Score                                  86                     67   \n",
              "CLTV                                       3239                   2701   \n",
              "Churn Reason       Competitor made better offer                  Moved   \n",
              "\n",
              "                                        2                       3  \\\n",
              "CustomerID                     9305-CDSKC              7892-POOKP   \n",
              "Count                                   1                       1   \n",
              "Country                     United States           United States   \n",
              "State                          California              California   \n",
              "City                          Los Angeles             Los Angeles   \n",
              "Zip Code                            90006                   90010   \n",
              "Lat Long           34.048013, -118.293953  34.062125, -118.315709   \n",
              "Latitude                        34.048013               34.062125   \n",
              "Longitude                     -118.293953             -118.315709   \n",
              "Gender                             Female                  Female   \n",
              "Senior Citizen                         No                      No   \n",
              "Partner                                No                     Yes   \n",
              "Dependents                            Yes                     Yes   \n",
              "Tenure Months                           8                      28   \n",
              "Phone Service                         Yes                     Yes   \n",
              "Multiple Lines                        Yes                     Yes   \n",
              "Internet Service              Fiber optic             Fiber optic   \n",
              "Online Security                        No                      No   \n",
              "Online Backup                          No                      No   \n",
              "Device Protection                     Yes                     Yes   \n",
              "Tech Support                           No                     Yes   \n",
              "Streaming TV                          Yes                     Yes   \n",
              "Streaming Movies                      Yes                     Yes   \n",
              "Contract                   Month-to-month          Month-to-month   \n",
              "Paperless Billing                     Yes                     Yes   \n",
              "Payment Method           Electronic check        Electronic check   \n",
              "Monthly Charges                     99.65                   104.8   \n",
              "Total Charges                       820.5                 3046.05   \n",
              "Churn Label                           Yes                     Yes   \n",
              "Churn Value                             1                       1   \n",
              "Churn Score                            86                      84   \n",
              "CLTV                                 5372                    5003   \n",
              "Churn Reason                        Moved                   Moved   \n",
              "\n",
              "                                               4  \n",
              "CustomerID                            0280-XJGEX  \n",
              "Count                                          1  \n",
              "Country                            United States  \n",
              "State                                 California  \n",
              "City                                 Los Angeles  \n",
              "Zip Code                                   90015  \n",
              "Lat Long                  34.039224, -118.266293  \n",
              "Latitude                               34.039224  \n",
              "Longitude                            -118.266293  \n",
              "Gender                                      Male  \n",
              "Senior Citizen                                No  \n",
              "Partner                                       No  \n",
              "Dependents                                   Yes  \n",
              "Tenure Months                                 49  \n",
              "Phone Service                                Yes  \n",
              "Multiple Lines                               Yes  \n",
              "Internet Service                     Fiber optic  \n",
              "Online Security                               No  \n",
              "Online Backup                                Yes  \n",
              "Device Protection                            Yes  \n",
              "Tech Support                                  No  \n",
              "Streaming TV                                 Yes  \n",
              "Streaming Movies                             Yes  \n",
              "Contract                          Month-to-month  \n",
              "Paperless Billing                            Yes  \n",
              "Payment Method         Bank transfer (automatic)  \n",
              "Monthly Charges                            103.7  \n",
              "Total Charges                             5036.3  \n",
              "Churn Label                                  Yes  \n",
              "Churn Value                                    1  \n",
              "Churn Score                                   89  \n",
              "CLTV                                        5340  \n",
              "Churn Reason       Competitor had better devices  "
            ],
            "text/html": [
              "\n",
              "  <div id=\"df-87292d41-e054-4c4c-bfff-9b0d7e9b148b\">\n",
              "    <div class=\"colab-df-container\">\n",
              "      <div>\n",
              "<style scoped>\n",
              "    .dataframe tbody tr th:only-of-type {\n",
              "        vertical-align: middle;\n",
              "    }\n",
              "\n",
              "    .dataframe tbody tr th {\n",
              "        vertical-align: top;\n",
              "    }\n",
              "\n",
              "    .dataframe thead th {\n",
              "        text-align: right;\n",
              "    }\n",
              "</style>\n",
              "<table border=\"1\" class=\"dataframe\">\n",
              "  <thead>\n",
              "    <tr style=\"text-align: right;\">\n",
              "      <th></th>\n",
              "      <th>0</th>\n",
              "      <th>1</th>\n",
              "      <th>2</th>\n",
              "      <th>3</th>\n",
              "      <th>4</th>\n",
              "    </tr>\n",
              "  </thead>\n",
              "  <tbody>\n",
              "    <tr>\n",
              "      <th>CustomerID</th>\n",
              "      <td>3668-QPYBK</td>\n",
              "      <td>9237-HQITU</td>\n",
              "      <td>9305-CDSKC</td>\n",
              "      <td>7892-POOKP</td>\n",
              "      <td>0280-XJGEX</td>\n",
              "    </tr>\n",
              "    <tr>\n",
              "      <th>Count</th>\n",
              "      <td>1</td>\n",
              "      <td>1</td>\n",
              "      <td>1</td>\n",
              "      <td>1</td>\n",
              "      <td>1</td>\n",
              "    </tr>\n",
              "    <tr>\n",
              "      <th>Country</th>\n",
              "      <td>United States</td>\n",
              "      <td>United States</td>\n",
              "      <td>United States</td>\n",
              "      <td>United States</td>\n",
              "      <td>United States</td>\n",
              "    </tr>\n",
              "    <tr>\n",
              "      <th>State</th>\n",
              "      <td>California</td>\n",
              "      <td>California</td>\n",
              "      <td>California</td>\n",
              "      <td>California</td>\n",
              "      <td>California</td>\n",
              "    </tr>\n",
              "    <tr>\n",
              "      <th>City</th>\n",
              "      <td>Los Angeles</td>\n",
              "      <td>Los Angeles</td>\n",
              "      <td>Los Angeles</td>\n",
              "      <td>Los Angeles</td>\n",
              "      <td>Los Angeles</td>\n",
              "    </tr>\n",
              "    <tr>\n",
              "      <th>Zip Code</th>\n",
              "      <td>90003</td>\n",
              "      <td>90005</td>\n",
              "      <td>90006</td>\n",
              "      <td>90010</td>\n",
              "      <td>90015</td>\n",
              "    </tr>\n",
              "    <tr>\n",
              "      <th>Lat Long</th>\n",
              "      <td>33.964131, -118.272783</td>\n",
              "      <td>34.059281, -118.30742</td>\n",
              "      <td>34.048013, -118.293953</td>\n",
              "      <td>34.062125, -118.315709</td>\n",
              "      <td>34.039224, -118.266293</td>\n",
              "    </tr>\n",
              "    <tr>\n",
              "      <th>Latitude</th>\n",
              "      <td>33.964131</td>\n",
              "      <td>34.059281</td>\n",
              "      <td>34.048013</td>\n",
              "      <td>34.062125</td>\n",
              "      <td>34.039224</td>\n",
              "    </tr>\n",
              "    <tr>\n",
              "      <th>Longitude</th>\n",
              "      <td>-118.272783</td>\n",
              "      <td>-118.30742</td>\n",
              "      <td>-118.293953</td>\n",
              "      <td>-118.315709</td>\n",
              "      <td>-118.266293</td>\n",
              "    </tr>\n",
              "    <tr>\n",
              "      <th>Gender</th>\n",
              "      <td>Male</td>\n",
              "      <td>Female</td>\n",
              "      <td>Female</td>\n",
              "      <td>Female</td>\n",
              "      <td>Male</td>\n",
              "    </tr>\n",
              "    <tr>\n",
              "      <th>Senior Citizen</th>\n",
              "      <td>No</td>\n",
              "      <td>No</td>\n",
              "      <td>No</td>\n",
              "      <td>No</td>\n",
              "      <td>No</td>\n",
              "    </tr>\n",
              "    <tr>\n",
              "      <th>Partner</th>\n",
              "      <td>No</td>\n",
              "      <td>No</td>\n",
              "      <td>No</td>\n",
              "      <td>Yes</td>\n",
              "      <td>No</td>\n",
              "    </tr>\n",
              "    <tr>\n",
              "      <th>Dependents</th>\n",
              "      <td>No</td>\n",
              "      <td>Yes</td>\n",
              "      <td>Yes</td>\n",
              "      <td>Yes</td>\n",
              "      <td>Yes</td>\n",
              "    </tr>\n",
              "    <tr>\n",
              "      <th>Tenure Months</th>\n",
              "      <td>2</td>\n",
              "      <td>2</td>\n",
              "      <td>8</td>\n",
              "      <td>28</td>\n",
              "      <td>49</td>\n",
              "    </tr>\n",
              "    <tr>\n",
              "      <th>Phone Service</th>\n",
              "      <td>Yes</td>\n",
              "      <td>Yes</td>\n",
              "      <td>Yes</td>\n",
              "      <td>Yes</td>\n",
              "      <td>Yes</td>\n",
              "    </tr>\n",
              "    <tr>\n",
              "      <th>Multiple Lines</th>\n",
              "      <td>No</td>\n",
              "      <td>No</td>\n",
              "      <td>Yes</td>\n",
              "      <td>Yes</td>\n",
              "      <td>Yes</td>\n",
              "    </tr>\n",
              "    <tr>\n",
              "      <th>Internet Service</th>\n",
              "      <td>DSL</td>\n",
              "      <td>Fiber optic</td>\n",
              "      <td>Fiber optic</td>\n",
              "      <td>Fiber optic</td>\n",
              "      <td>Fiber optic</td>\n",
              "    </tr>\n",
              "    <tr>\n",
              "      <th>Online Security</th>\n",
              "      <td>Yes</td>\n",
              "      <td>No</td>\n",
              "      <td>No</td>\n",
              "      <td>No</td>\n",
              "      <td>No</td>\n",
              "    </tr>\n",
              "    <tr>\n",
              "      <th>Online Backup</th>\n",
              "      <td>Yes</td>\n",
              "      <td>No</td>\n",
              "      <td>No</td>\n",
              "      <td>No</td>\n",
              "      <td>Yes</td>\n",
              "    </tr>\n",
              "    <tr>\n",
              "      <th>Device Protection</th>\n",
              "      <td>No</td>\n",
              "      <td>No</td>\n",
              "      <td>Yes</td>\n",
              "      <td>Yes</td>\n",
              "      <td>Yes</td>\n",
              "    </tr>\n",
              "    <tr>\n",
              "      <th>Tech Support</th>\n",
              "      <td>No</td>\n",
              "      <td>No</td>\n",
              "      <td>No</td>\n",
              "      <td>Yes</td>\n",
              "      <td>No</td>\n",
              "    </tr>\n",
              "    <tr>\n",
              "      <th>Streaming TV</th>\n",
              "      <td>No</td>\n",
              "      <td>No</td>\n",
              "      <td>Yes</td>\n",
              "      <td>Yes</td>\n",
              "      <td>Yes</td>\n",
              "    </tr>\n",
              "    <tr>\n",
              "      <th>Streaming Movies</th>\n",
              "      <td>No</td>\n",
              "      <td>No</td>\n",
              "      <td>Yes</td>\n",
              "      <td>Yes</td>\n",
              "      <td>Yes</td>\n",
              "    </tr>\n",
              "    <tr>\n",
              "      <th>Contract</th>\n",
              "      <td>Month-to-month</td>\n",
              "      <td>Month-to-month</td>\n",
              "      <td>Month-to-month</td>\n",
              "      <td>Month-to-month</td>\n",
              "      <td>Month-to-month</td>\n",
              "    </tr>\n",
              "    <tr>\n",
              "      <th>Paperless Billing</th>\n",
              "      <td>Yes</td>\n",
              "      <td>Yes</td>\n",
              "      <td>Yes</td>\n",
              "      <td>Yes</td>\n",
              "      <td>Yes</td>\n",
              "    </tr>\n",
              "    <tr>\n",
              "      <th>Payment Method</th>\n",
              "      <td>Mailed check</td>\n",
              "      <td>Electronic check</td>\n",
              "      <td>Electronic check</td>\n",
              "      <td>Electronic check</td>\n",
              "      <td>Bank transfer (automatic)</td>\n",
              "    </tr>\n",
              "    <tr>\n",
              "      <th>Monthly Charges</th>\n",
              "      <td>53.85</td>\n",
              "      <td>70.7</td>\n",
              "      <td>99.65</td>\n",
              "      <td>104.8</td>\n",
              "      <td>103.7</td>\n",
              "    </tr>\n",
              "    <tr>\n",
              "      <th>Total Charges</th>\n",
              "      <td>108.15</td>\n",
              "      <td>151.65</td>\n",
              "      <td>820.5</td>\n",
              "      <td>3046.05</td>\n",
              "      <td>5036.3</td>\n",
              "    </tr>\n",
              "    <tr>\n",
              "      <th>Churn Label</th>\n",
              "      <td>Yes</td>\n",
              "      <td>Yes</td>\n",
              "      <td>Yes</td>\n",
              "      <td>Yes</td>\n",
              "      <td>Yes</td>\n",
              "    </tr>\n",
              "    <tr>\n",
              "      <th>Churn Value</th>\n",
              "      <td>1</td>\n",
              "      <td>1</td>\n",
              "      <td>1</td>\n",
              "      <td>1</td>\n",
              "      <td>1</td>\n",
              "    </tr>\n",
              "    <tr>\n",
              "      <th>Churn Score</th>\n",
              "      <td>86</td>\n",
              "      <td>67</td>\n",
              "      <td>86</td>\n",
              "      <td>84</td>\n",
              "      <td>89</td>\n",
              "    </tr>\n",
              "    <tr>\n",
              "      <th>CLTV</th>\n",
              "      <td>3239</td>\n",
              "      <td>2701</td>\n",
              "      <td>5372</td>\n",
              "      <td>5003</td>\n",
              "      <td>5340</td>\n",
              "    </tr>\n",
              "    <tr>\n",
              "      <th>Churn Reason</th>\n",
              "      <td>Competitor made better offer</td>\n",
              "      <td>Moved</td>\n",
              "      <td>Moved</td>\n",
              "      <td>Moved</td>\n",
              "      <td>Competitor had better devices</td>\n",
              "    </tr>\n",
              "  </tbody>\n",
              "</table>\n",
              "</div>\n",
              "      <button class=\"colab-df-convert\" onclick=\"convertToInteractive('df-87292d41-e054-4c4c-bfff-9b0d7e9b148b')\"\n",
              "              title=\"Convert this dataframe to an interactive table.\"\n",
              "              style=\"display:none;\">\n",
              "        \n",
              "  <svg xmlns=\"http://www.w3.org/2000/svg\" height=\"24px\"viewBox=\"0 0 24 24\"\n",
              "       width=\"24px\">\n",
              "    <path d=\"M0 0h24v24H0V0z\" fill=\"none\"/>\n",
              "    <path d=\"M18.56 5.44l.94 2.06.94-2.06 2.06-.94-2.06-.94-.94-2.06-.94 2.06-2.06.94zm-11 1L8.5 8.5l.94-2.06 2.06-.94-2.06-.94L8.5 2.5l-.94 2.06-2.06.94zm10 10l.94 2.06.94-2.06 2.06-.94-2.06-.94-.94-2.06-.94 2.06-2.06.94z\"/><path d=\"M17.41 7.96l-1.37-1.37c-.4-.4-.92-.59-1.43-.59-.52 0-1.04.2-1.43.59L10.3 9.45l-7.72 7.72c-.78.78-.78 2.05 0 2.83L4 21.41c.39.39.9.59 1.41.59.51 0 1.02-.2 1.41-.59l7.78-7.78 2.81-2.81c.8-.78.8-2.07 0-2.86zM5.41 20L4 18.59l7.72-7.72 1.47 1.35L5.41 20z\"/>\n",
              "  </svg>\n",
              "      </button>\n",
              "      \n",
              "  <style>\n",
              "    .colab-df-container {\n",
              "      display:flex;\n",
              "      flex-wrap:wrap;\n",
              "      gap: 12px;\n",
              "    }\n",
              "\n",
              "    .colab-df-convert {\n",
              "      background-color: #E8F0FE;\n",
              "      border: none;\n",
              "      border-radius: 50%;\n",
              "      cursor: pointer;\n",
              "      display: none;\n",
              "      fill: #1967D2;\n",
              "      height: 32px;\n",
              "      padding: 0 0 0 0;\n",
              "      width: 32px;\n",
              "    }\n",
              "\n",
              "    .colab-df-convert:hover {\n",
              "      background-color: #E2EBFA;\n",
              "      box-shadow: 0px 1px 2px rgba(60, 64, 67, 0.3), 0px 1px 3px 1px rgba(60, 64, 67, 0.15);\n",
              "      fill: #174EA6;\n",
              "    }\n",
              "\n",
              "    [theme=dark] .colab-df-convert {\n",
              "      background-color: #3B4455;\n",
              "      fill: #D2E3FC;\n",
              "    }\n",
              "\n",
              "    [theme=dark] .colab-df-convert:hover {\n",
              "      background-color: #434B5C;\n",
              "      box-shadow: 0px 1px 3px 1px rgba(0, 0, 0, 0.15);\n",
              "      filter: drop-shadow(0px 1px 2px rgba(0, 0, 0, 0.3));\n",
              "      fill: #FFFFFF;\n",
              "    }\n",
              "  </style>\n",
              "\n",
              "      <script>\n",
              "        const buttonEl =\n",
              "          document.querySelector('#df-87292d41-e054-4c4c-bfff-9b0d7e9b148b button.colab-df-convert');\n",
              "        buttonEl.style.display =\n",
              "          google.colab.kernel.accessAllowed ? 'block' : 'none';\n",
              "\n",
              "        async function convertToInteractive(key) {\n",
              "          const element = document.querySelector('#df-87292d41-e054-4c4c-bfff-9b0d7e9b148b');\n",
              "          const dataTable =\n",
              "            await google.colab.kernel.invokeFunction('convertToInteractive',\n",
              "                                                     [key], {});\n",
              "          if (!dataTable) return;\n",
              "\n",
              "          const docLinkHtml = 'Like what you see? Visit the ' +\n",
              "            '<a target=\"_blank\" href=https://colab.research.google.com/notebooks/data_table.ipynb>data table notebook</a>'\n",
              "            + ' to learn more about interactive tables.';\n",
              "          element.innerHTML = '';\n",
              "          dataTable['output_type'] = 'display_data';\n",
              "          await google.colab.output.renderOutput(dataTable, element);\n",
              "          const docLink = document.createElement('div');\n",
              "          docLink.innerHTML = docLinkHtml;\n",
              "          element.appendChild(docLink);\n",
              "        }\n",
              "      </script>\n",
              "    </div>\n",
              "  </div>\n",
              "  "
            ]
          },
          "metadata": {},
          "execution_count": 4
        }
      ]
    },
    {
      "cell_type": "code",
      "source": [
        "df.shape #df.shape gives the number of rows and columns in your dataset. This dataset has 7043 rows and 33 columns"
      ],
      "metadata": {
        "colab": {
          "base_uri": "https://localhost:8080/"
        },
        "id": "_6QCgzzEDZOV",
        "outputId": "759e7603-8fac-49ee-e506-9c2c0943f465"
      },
      "execution_count": 5,
      "outputs": [
        {
          "output_type": "execute_result",
          "data": {
            "text/plain": [
              "(7043, 33)"
            ]
          },
          "metadata": {},
          "execution_count": 5
        }
      ]
    },
    {
      "cell_type": "code",
      "source": [
        "cols = df.columns #df.columns is used to display the all the columns in your dataset.Here I have printed the names of the columns in a list format by using\n",
        "#print(list(cols))\n",
        "print(list(cols))"
      ],
      "metadata": {
        "colab": {
          "base_uri": "https://localhost:8080/"
        },
        "id": "eoNdBDCbDcWt",
        "outputId": "fa530e9b-56e1-45ca-be64-193bde07c3bd"
      },
      "execution_count": 6,
      "outputs": [
        {
          "output_type": "stream",
          "name": "stdout",
          "text": [
            "['CustomerID', 'Count', 'Country', 'State', 'City', 'Zip Code', 'Lat Long', 'Latitude', 'Longitude', 'Gender', 'Senior Citizen', 'Partner', 'Dependents', 'Tenure Months', 'Phone Service', 'Multiple Lines', 'Internet Service', 'Online Security', 'Online Backup', 'Device Protection', 'Tech Support', 'Streaming TV', 'Streaming Movies', 'Contract', 'Paperless Billing', 'Payment Method', 'Monthly Charges', 'Total Charges', 'Churn Label', 'Churn Value', 'Churn Score', 'CLTV', 'Churn Reason']\n"
          ]
        }
      ]
    },
    {
      "cell_type": "code",
      "source": [
        "df = df.astype({'Count':'int64','Zip Code':'object','Latitude':'object','Longitude':'object','Churn Value':'int64','Churn Score':'int64','CLTV':'int64','Tenure Months':'int64'})\n",
        "#df.astype is used to change the datatypes of the columns in your dataset"
      ],
      "metadata": {
        "id": "J8WiN6_NIDTt"
      },
      "execution_count": 7,
      "outputs": []
    },
    {
      "cell_type": "code",
      "source": [
        "df[\"Total Charges\"] = pd.to_numeric(df[\"Total Charges\"],errors='coerce')\n",
        "#pd.to_numeric is used to convert object datatype to float datatype.Here Total Charges had object datatype so I have converted it to float64."
      ],
      "metadata": {
        "id": "hrmaPJBUCzQw"
      },
      "execution_count": 11,
      "outputs": []
    },
    {
      "cell_type": "code",
      "source": [
        "df.isnull().sum() #df.isnull().sum() tells us how many null values are there per column.Here it shows that there are 5174 null values in Churn Reason column"
      ],
      "metadata": {
        "colab": {
          "base_uri": "https://localhost:8080/"
        },
        "id": "jrGMCGfaj6qN",
        "outputId": "8c76cbc7-3c14-42f0-cf80-d8ce9212ca01"
      },
      "execution_count": 12,
      "outputs": [
        {
          "output_type": "execute_result",
          "data": {
            "text/plain": [
              "CustomerID              0\n",
              "Count                   0\n",
              "Country                 0\n",
              "State                   0\n",
              "City                    0\n",
              "Zip Code                0\n",
              "Lat Long                0\n",
              "Latitude                0\n",
              "Longitude               0\n",
              "Gender                  0\n",
              "Senior Citizen          0\n",
              "Partner                 0\n",
              "Dependents              0\n",
              "Tenure Months           0\n",
              "Phone Service           0\n",
              "Multiple Lines          0\n",
              "Internet Service        0\n",
              "Online Security         0\n",
              "Online Backup           0\n",
              "Device Protection       0\n",
              "Tech Support            0\n",
              "Streaming TV            0\n",
              "Streaming Movies        0\n",
              "Contract                0\n",
              "Paperless Billing       0\n",
              "Payment Method          0\n",
              "Monthly Charges         0\n",
              "Total Charges          11\n",
              "Churn Label             0\n",
              "Churn Value             0\n",
              "Churn Score             0\n",
              "CLTV                    0\n",
              "Churn Reason         5174\n",
              "dtype: int64"
            ]
          },
          "metadata": {},
          "execution_count": 12
        }
      ]
    },
    {
      "cell_type": "code",
      "source": [
        "\n",
        "df.drop('Churn Reason',axis=1,inplace=True)#df.drop is used to drop the columns from your dataset.axis=1 specifies that we are dropping a column.\n",
        "#inplace=True will drop the column permanently.Here I have dropped the churn reason column because there are more than 50% null values in this column."
      ],
      "metadata": {
        "id": "7rlW4Z5TlLi8"
      },
      "execution_count": 13,
      "outputs": []
    },
    {
      "cell_type": "code",
      "source": [
        "df.drop('Lat Long',axis=1,inplace=True)#I am also dropping the 'Lat Long' column because we have seperate columns for Latitude and Longitude as 'Latitude'\n",
        "# and 'Longitude' respectively."
      ],
      "metadata": {
        "id": "n52geqGcPWua"
      },
      "execution_count": 14,
      "outputs": []
    },
    {
      "cell_type": "code",
      "source": [
        "df.info() #df.info() gives column names,datatypes of columns,non-null count per column"
      ],
      "metadata": {
        "colab": {
          "base_uri": "https://localhost:8080/"
        },
        "id": "pML-Yu2EmJDO",
        "outputId": "a2c28dd8-a53a-486b-c270-5a4377235f06"
      },
      "execution_count": 15,
      "outputs": [
        {
          "output_type": "stream",
          "name": "stdout",
          "text": [
            "<class 'pandas.core.frame.DataFrame'>\n",
            "RangeIndex: 7043 entries, 0 to 7042\n",
            "Data columns (total 31 columns):\n",
            " #   Column             Non-Null Count  Dtype  \n",
            "---  ------             --------------  -----  \n",
            " 0   CustomerID         7043 non-null   object \n",
            " 1   Count              7043 non-null   int64  \n",
            " 2   Country            7043 non-null   object \n",
            " 3   State              7043 non-null   object \n",
            " 4   City               7043 non-null   object \n",
            " 5   Zip Code           7043 non-null   object \n",
            " 6   Latitude           7043 non-null   object \n",
            " 7   Longitude          7043 non-null   object \n",
            " 8   Gender             7043 non-null   object \n",
            " 9   Senior Citizen     7043 non-null   object \n",
            " 10  Partner            7043 non-null   object \n",
            " 11  Dependents         7043 non-null   object \n",
            " 12  Tenure Months      7043 non-null   int64  \n",
            " 13  Phone Service      7043 non-null   object \n",
            " 14  Multiple Lines     7043 non-null   object \n",
            " 15  Internet Service   7043 non-null   object \n",
            " 16  Online Security    7043 non-null   object \n",
            " 17  Online Backup      7043 non-null   object \n",
            " 18  Device Protection  7043 non-null   object \n",
            " 19  Tech Support       7043 non-null   object \n",
            " 20  Streaming TV       7043 non-null   object \n",
            " 21  Streaming Movies   7043 non-null   object \n",
            " 22  Contract           7043 non-null   object \n",
            " 23  Paperless Billing  7043 non-null   object \n",
            " 24  Payment Method     7043 non-null   object \n",
            " 25  Monthly Charges    7043 non-null   float64\n",
            " 26  Total Charges      7032 non-null   float64\n",
            " 27  Churn Label        7043 non-null   object \n",
            " 28  Churn Value        7043 non-null   int64  \n",
            " 29  Churn Score        7043 non-null   int64  \n",
            " 30  CLTV               7043 non-null   int64  \n",
            "dtypes: float64(2), int64(5), object(24)\n",
            "memory usage: 1.7+ MB\n"
          ]
        }
      ]
    },
    {
      "cell_type": "markdown",
      "source": [
        "#Outlier Analysis"
      ],
      "metadata": {
        "id": "rWMRfjqRTLwg"
      }
    },
    {
      "cell_type": "code",
      "source": [
        "df.boxplot('Churn Score') #To check if there are outliers in a particular column, we can plot a boxplot for that column.If there are some points above or\n",
        "#below the lower whisker it means that there are outliers in that column and we need to eliminate them (if the percentage of outliers is more than 0.3%)\n",
        "# using appropriate steps.Similarly you can see the boxplots of the remaining numerical columns of the dataset below and as seen there are no outliers in\n",
        "#any of the numerical columns\n"
      ],
      "metadata": {
        "colab": {
          "base_uri": "https://localhost:8080/",
          "height": 282
        },
        "id": "Y9JELjdpA8yr",
        "outputId": "2fd1955a-f12d-4871-9a6b-5fe9f89913de"
      },
      "execution_count": 16,
      "outputs": [
        {
          "output_type": "execute_result",
          "data": {
            "text/plain": [
              "<matplotlib.axes._subplots.AxesSubplot at 0x7f0e18917110>"
            ]
          },
          "metadata": {},
          "execution_count": 16
        },
        {
          "output_type": "display_data",
          "data": {
            "text/plain": [
              "<Figure size 432x288 with 1 Axes>"
            ],
            "image/png": "[encoded data removed]"
          },
          "metadata": {
            "needs_background": "light"
          }
        }
      ]
    },
    {
      "cell_type": "code",
      "source": [
        "df.boxplot('Monthly Charges')"
      ],
      "metadata": {
        "colab": {
          "base_uri": "https://localhost:8080/",
          "height": 282
        },
        "id": "-VZNQbxahUbn",
        "outputId": "b3b22759-a336-4b0f-9e6b-58d0d9c9a1b7"
      },
      "execution_count": null,
      "outputs": [
        {
          "output_type": "execute_result",
          "data": {
            "text/plain": [
              "<matplotlib.axes._subplots.AxesSubplot at 0x7f2636be1f10>"
            ]
          },
          "metadata": {},
          "execution_count": 31
        },
        {
          "output_type": "display_data",
          "data": {
            "text/plain": [
              "<Figure size 432x288 with 1 Axes>"
            ],
            "image/png": "[encoded data removed]"
          },
          "metadata": {
            "needs_background": "light"
          }
        }
      ]
    },
    {
      "cell_type": "code",
      "source": [
        "df.boxplot('Tenure Months')"
      ],
      "metadata": {
        "colab": {
          "base_uri": "https://localhost:8080/",
          "height": 282
        },
        "id": "3LfoFo1MhYmH",
        "outputId": "6e53c0bf-5c23-4176-fb68-858e607b93da"
      },
      "execution_count": null,
      "outputs": [
        {
          "output_type": "execute_result",
          "data": {
            "text/plain": [
              "<matplotlib.axes._subplots.AxesSubplot at 0x7f263633d250>"
            ]
          },
          "metadata": {},
          "execution_count": 32
        },
        {
          "output_type": "display_data",
          "data": {
            "text/plain": [
              "<Figure size 432x288 with 1 Axes>"
            ],
            "image/png": "[encoded data removed]"
          },
          "metadata": {
            "needs_background": "light"
          }
        }
      ]
    },
    {
      "cell_type": "markdown",
      "source": [
        "1.Please read the file and explain data types statistically as well as how python is reading it. Please let us know if any data type is read wrong.\n"
      ],
      "metadata": {
        "id": "5XRujflVays2"
      }
    },
    {
      "cell_type": "code",
      "source": [
        "\n",
        "\n",
        "#Statistical Explanation of data types:\n",
        "#CustomerID : Categorical(Nominal)\n",
        "#Count : Numerical(discrete)\n",
        "#Country:Categorical(Nominal)\n",
        "#State: Categorical(Nominal)\n",
        "#City: Categorical(Nominal)\n",
        "#Zip Code: Categorical(Nominal)\n",
        "#Lat Long : Categorical(Nominal)\n",
        "#Latitude:Categorical(Nominal)\n",
        "#Longitude:Categorical(Nominal)\n",
        "#Gender:Categorical(Nominal)\n",
        "#Senior Citizen: Categorical(Nominal)\n",
        "#Partner: Categorical(Nominal)\n",
        "#Dependents: Categorical(Nominal)\n",
        "#Tenure Months:Numerical(discrete)\n",
        "#Phone Service :Categorical(Nominal)  \n",
        "#Multiple Lines : Categorical(Nominal)       \n",
        "#Internet Service : Categorical(Ordinal)    \n",
        "#Online Security : Categorical(Nominal)     \n",
        "#Online Backup : Categorical(Nominal)        \n",
        "#Device Protection : Categorical(Nominal)  \n",
        "#Tech Support : Categorical(Nominal)      \n",
        "#Streaming TV : Categorical(Nominal)     \n",
        "#Streaming Movies : Categorical(Nominal)\n",
        "#Contract : Categorical(Nominal)            \n",
        "#Paperless Billing : Categorical(Nominal)       \n",
        "#Payment Method : Categorical(Nominal)         \n",
        "#Monthly Charges : Numerical(Continuous)      \n",
        "#Total Charges : Numerical(Continuous)        \n",
        "#Churn Label : Categorical(Nominal)           \n",
        "#Churn Value : Categorical(Nominal)        \n",
        "#Churn Score : Numerical(Discrete)       \n",
        "#CLTV : Numerical(Continuous)             \n",
        "#Churn Reason : Categorical(Nominal)\n",
        "\n",
        "df.info() #df.info() gives column names,datatypes of columns,non-null count per column\n",
        "\n"
      ],
      "metadata": {
        "colab": {
          "base_uri": "https://localhost:8080/"
        },
        "id": "wOHLf-l8DQ9r",
        "outputId": "8c124d0e-5638-4f91-e9bb-70432218d548"
      },
      "execution_count": 17,
      "outputs": [
        {
          "output_type": "stream",
          "name": "stdout",
          "text": [
            "<class 'pandas.core.frame.DataFrame'>\n",
            "RangeIndex: 7043 entries, 0 to 7042\n",
            "Data columns (total 31 columns):\n",
            " #   Column             Non-Null Count  Dtype  \n",
            "---  ------             --------------  -----  \n",
            " 0   CustomerID         7043 non-null   object \n",
            " 1   Count              7043 non-null   int64  \n",
            " 2   Country            7043 non-null   object \n",
            " 3   State              7043 non-null   object \n",
            " 4   City               7043 non-null   object \n",
            " 5   Zip Code           7043 non-null   object \n",
            " 6   Latitude           7043 non-null   object \n",
            " 7   Longitude          7043 non-null   object \n",
            " 8   Gender             7043 non-null   object \n",
            " 9   Senior Citizen     7043 non-null   object \n",
            " 10  Partner            7043 non-null   object \n",
            " 11  Dependents         7043 non-null   object \n",
            " 12  Tenure Months      7043 non-null   int64  \n",
            " 13  Phone Service      7043 non-null   object \n",
            " 14  Multiple Lines     7043 non-null   object \n",
            " 15  Internet Service   7043 non-null   object \n",
            " 16  Online Security    7043 non-null   object \n",
            " 17  Online Backup      7043 non-null   object \n",
            " 18  Device Protection  7043 non-null   object \n",
            " 19  Tech Support       7043 non-null   object \n",
            " 20  Streaming TV       7043 non-null   object \n",
            " 21  Streaming Movies   7043 non-null   object \n",
            " 22  Contract           7043 non-null   object \n",
            " 23  Paperless Billing  7043 non-null   object \n",
            " 24  Payment Method     7043 non-null   object \n",
            " 25  Monthly Charges    7043 non-null   float64\n",
            " 26  Total Charges      7032 non-null   float64\n",
            " 27  Churn Label        7043 non-null   object \n",
            " 28  Churn Value        7043 non-null   int64  \n",
            " 29  Churn Score        7043 non-null   int64  \n",
            " 30  CLTV               7043 non-null   int64  \n",
            "dtypes: float64(2), int64(5), object(24)\n",
            "memory usage: 1.7+ MB\n"
          ]
        }
      ]
    },
    {
      "cell_type": "markdown",
      "source": [
        "Q2.Please apply appropriate statistical measures using python based on data types."
      ],
      "metadata": {
        "id": "TqsWBXQobDgP"
      }
    },
    {
      "cell_type": "code",
      "source": [
        "df['CustomerID'].mode() #I have used mode as a statistical measure here because customerID is categorical column and applying mean and median on categorical \n",
        "#columns would not fetch us the appropriate results\n"
      ],
      "metadata": {
        "colab": {
          "base_uri": "https://localhost:8080/"
        },
        "id": "ls4HBfAMrtwC",
        "outputId": "bb38db7d-5ce4-485a-8adc-526deb78f844"
      },
      "execution_count": 18,
      "outputs": [
        {
          "output_type": "execute_result",
          "data": {
            "text/plain": [
              "0       0002-ORFBO\n",
              "1       0003-MKNFE\n",
              "2       0004-TLHLJ\n",
              "3       0011-IGKFF\n",
              "4       0013-EXCHZ\n",
              "           ...    \n",
              "7038    9987-LUTYD\n",
              "7039    9992-RRAMN\n",
              "7040    9992-UJOEL\n",
              "7041    9993-LHIEB\n",
              "7042    9995-HOTOH\n",
              "Length: 7043, dtype: object"
            ]
          },
          "metadata": {},
          "execution_count": 18
        }
      ]
    },
    {
      "cell_type": "code",
      "source": [
        "#For numerical columns we can calculate all the measures of central tendency(mean,median,mode) and measures of dispersion(Variance,Standard deviation,IQR)\n",
        "# except mode.IQR= equals to Interquartile range\n",
        "\n",
        "#measures of central tendency\n",
        "print(df['Count'].mean())\n",
        "print(df['Count'].median())\n",
        "\n",
        "#measures of dispersion\n",
        "print(df['Count'].std())\n",
        "print(df['Count'].var())\n",
        "print(df['Count'].describe())\n",
        "\n",
        "q3=1\n",
        "q1=1\n",
        "IQR= q3-q1\n",
        "IQR\n",
        "\n"
      ],
      "metadata": {
        "colab": {
          "base_uri": "https://localhost:8080/"
        },
        "id": "_9Fb4KW9xjZj",
        "outputId": "00a69e0b-b7cd-4ea5-b7b9-67564fccdfce"
      },
      "execution_count": 19,
      "outputs": [
        {
          "output_type": "stream",
          "name": "stdout",
          "text": [
            "1.0\n",
            "1.0\n",
            "0.0\n",
            "0.0\n",
            "count    7043.0\n",
            "mean        1.0\n",
            "std         0.0\n",
            "min         1.0\n",
            "25%         1.0\n",
            "50%         1.0\n",
            "75%         1.0\n",
            "max         1.0\n",
            "Name: Count, dtype: float64\n"
          ]
        },
        {
          "output_type": "execute_result",
          "data": {
            "text/plain": [
              "0"
            ]
          },
          "metadata": {},
          "execution_count": 19
        }
      ]
    },
    {
      "cell_type": "code",
      "source": [
        "print(df['Country'].mode()) #used mode here because customerID is categorical column\n",
        "print(df['State'].mode()) #used mode here because State is categorical column\n",
        "print(df['City'].mode()) #used mode here because City is categorical column\n",
        "print(df['Zip Code'].mode()) #used mode here because Zip Code is categorical column\n",
        "print(df['Lat Long'].mode()) #used mode here because Lat Long is categorical column\n",
        "print(df['Latitude'].mode()) #used mode here because Latitude is categorical column\n",
        "print(df['Longitude'].mode()) #used mode here because Longitude is categorical column\n",
        "print(df['Senior Citizen'].mode()) #used mode here because Senior Citizen is categorical column\n",
        "print(df['Partner'].mode()) #used mode here because Partner is categorical column\n",
        "print(df['Dependents'].mode()) #used mode here because Dependents is categorical column\n"
      ],
      "metadata": {
        "colab": {
          "base_uri": "https://localhost:8080/"
        },
        "id": "4fT8mg6R4Ens",
        "outputId": "fa839d5c-02bd-4eec-f701-f3331ec0f0a4"
      },
      "execution_count": null,
      "outputs": [
        {
          "output_type": "stream",
          "name": "stdout",
          "text": [
            "0    United States\n",
            "dtype: object\n",
            "0    California\n",
            "dtype: object\n",
            "0    Los Angeles\n",
            "dtype: object\n",
            "0      90001.0\n",
            "1      90002.0\n",
            "2      90003.0\n",
            "3      90004.0\n",
            "4      90005.0\n",
            "        ...   \n",
            "430    92301.0\n",
            "431    92304.0\n",
            "432    92305.0\n",
            "433    92307.0\n",
            "434    92308.0\n",
            "Length: 435, dtype: object\n",
            "0      32.555828, -117.040073\n",
            "1      32.578103, -117.012975\n",
            "2      32.579134, -117.119009\n",
            "3      32.587557, -116.636816\n",
            "4       32.605012, -116.97595\n",
            "                ...          \n",
            "430     34.502432, -118.41459\n",
            "431    34.506627, -118.699048\n",
            "432     34.55082, -117.122396\n",
            "433    34.559882, -115.637164\n",
            "434    34.667815, -117.536183\n",
            "Length: 435, dtype: object\n",
            "0      32.555828\n",
            "1      32.578103\n",
            "2      32.579134\n",
            "3      32.587557\n",
            "4      32.605012\n",
            "         ...    \n",
            "430    34.502432\n",
            "431    34.506627\n",
            "432     34.55082\n",
            "433    34.559882\n",
            "434    34.667815\n",
            "Length: 435, dtype: object\n",
            "0   -121.994813\n",
            "dtype: object\n",
            "0    No\n",
            "dtype: object\n",
            "0    No\n",
            "dtype: object\n",
            "0    No\n",
            "dtype: object\n"
          ]
        }
      ]
    },
    {
      "cell_type": "code",
      "source": [
        "#For numerical columns we can calculate all the measures of central tendency(mean,median,mode) and measures of dispersion(Variance,Standard deviation,IQR)\n",
        "# except mode.IQR equals to Interquartile range\n",
        "\n",
        "#measures of central tendency\n",
        "print(round(df['Tenure Months'].mean(),2))\n",
        "print(round(df['Tenure Months'].median(),2))\n",
        "#measures of dispersion\n",
        "print(round(df['Tenure Months'].std(),2))\n",
        "print(round(df['Tenure Months'].var(),2))\n",
        "print(df['Tenure Months'].describe())\n",
        "\n",
        "q3=55\n",
        "q1=9\n",
        "IQR= q3-q1\n",
        "IQR\n",
        "\n"
      ],
      "metadata": {
        "colab": {
          "base_uri": "https://localhost:8080/"
        },
        "id": "9meRfUs87MeJ",
        "outputId": "7373a7df-1b1c-40c5-b150-95737a100394"
      },
      "execution_count": null,
      "outputs": [
        {
          "output_type": "stream",
          "name": "stdout",
          "text": [
            "32.37\n",
            "29.0\n",
            "24.56\n",
            "603.17\n",
            "count    7043.000000\n",
            "mean       32.371149\n",
            "std        24.559481\n",
            "min         0.000000\n",
            "25%         9.000000\n",
            "50%        29.000000\n",
            "75%        55.000000\n",
            "max        72.000000\n",
            "Name: Tenure Months, dtype: float64\n"
          ]
        },
        {
          "output_type": "execute_result",
          "data": {
            "text/plain": [
              "46"
            ]
          },
          "metadata": {},
          "execution_count": 64
        }
      ]
    },
    {
      "cell_type": "code",
      "source": [
        "#I have used mode for all the columns below because they are categorical columns\n",
        "\n",
        "print(df['Phone Service'].mode())\n",
        "print(df['Multiple Lines'].mode())\n",
        "print(df['Internet Service'].mode())\n",
        "print(df['Online Security'].mode())\n",
        "print(df['Online Backup'].mode())\n",
        "print(df['Device Protection'].mode())\n",
        "print(df['Tech Support'].mode())\n",
        "print(df['Streaming TV'].mode())\n",
        "print(df['Streaming Movies'].mode())\n",
        "print(df['Contract'].mode())\n",
        "print(df['Paperless Billing'].mode())\n",
        "print(df['Payment Method'].mode())\n",
        "\n"
      ],
      "metadata": {
        "colab": {
          "base_uri": "https://localhost:8080/"
        },
        "id": "kV1hkg609Dc8",
        "outputId": "53ee1c41-b67a-44df-adc6-177e27884ed8"
      },
      "execution_count": null,
      "outputs": [
        {
          "output_type": "stream",
          "name": "stdout",
          "text": [
            "0    Yes\n",
            "dtype: object\n",
            "0    No\n",
            "dtype: object\n",
            "0    Fiber optic\n",
            "dtype: object\n",
            "0    No\n",
            "dtype: object\n",
            "0    No\n",
            "dtype: object\n",
            "0    No\n",
            "dtype: object\n",
            "0    No\n",
            "dtype: object\n",
            "0    No\n",
            "dtype: object\n",
            "0    No\n",
            "dtype: object\n",
            "0    Month-to-month\n",
            "dtype: object\n",
            "0    Yes\n",
            "dtype: object\n",
            "0    Electronic check\n",
            "dtype: object\n"
          ]
        }
      ]
    },
    {
      "cell_type": "code",
      "source": [
        "#For numerical columns we can calculate all the measures of central tendency(mean,median,mode) and measures of dispersion(Variance,Standard deviation,IQR)\n",
        "# except mode.IQR=Interquartile range\n",
        "\n",
        "#measures of central tendency\n",
        "print(round(df['Monthly Charges'].mean(),2))\n",
        "print(round(df['Monthly Charges'].median(),2))\n",
        "#measures of dispersion\n",
        "print(round(df['Monthly Charges'].std(),2))\n",
        "print(round(df['Monthly Charges'].var(),2))\n",
        "print(df['Monthly Charges'].describe())\n",
        "\n",
        "q3=89.85\n",
        "q1=35.50\n",
        "IQR= q3-q1\n",
        "print(round(IQR,2))\n",
        "\n",
        "\n",
        "\n"
      ],
      "metadata": {
        "colab": {
          "base_uri": "https://localhost:8080/"
        },
        "id": "jq-o2e79_c0D",
        "outputId": "a9c646a2-e817-407d-d12f-8b82e00d7473"
      },
      "execution_count": null,
      "outputs": [
        {
          "output_type": "stream",
          "name": "stdout",
          "text": [
            "64.76\n",
            "70.35\n",
            "30.09\n",
            "905.41\n",
            "count    7043.000000\n",
            "mean       64.761692\n",
            "std        30.090047\n",
            "min        18.250000\n",
            "25%        35.500000\n",
            "50%        70.350000\n",
            "75%        89.850000\n",
            "max       118.750000\n",
            "Name: Monthly Charges, dtype: float64\n",
            "54.35\n"
          ]
        }
      ]
    },
    {
      "cell_type": "code",
      "source": [
        "#I have used mode for all the columns below because they are categorical columns\n",
        "\n",
        "print(df['Churn Label'].mode())\n",
        "print(df['Churn Value'].mode())\n",
        "print(df['Churn Reason'].mode())"
      ],
      "metadata": {
        "colab": {
          "base_uri": "https://localhost:8080/"
        },
        "id": "pIQM_4wZCPYi",
        "outputId": "51bca348-2432-484c-d8c5-be42cf94af53"
      },
      "execution_count": null,
      "outputs": [
        {
          "output_type": "stream",
          "name": "stdout",
          "text": [
            "0    No\n",
            "dtype: object\n",
            "0    0\n",
            "dtype: object\n",
            "0    Attitude of support person\n",
            "dtype: object\n"
          ]
        }
      ]
    },
    {
      "cell_type": "code",
      "source": [
        "#For numerical columns we can calculate all the measures of central tendency(mean,median,mode) and measures of dispersion(Variance,Standard deviation,IQR)\n",
        "# except mode.IQR=Interquartile range\n",
        "\n",
        "#measures of central tendency\n",
        "print(round(df['Churn Score'].mean(),2))\n",
        "print(round(df['Churn Score'].median(),2))\n",
        "#measures of dispersion\n",
        "print(round(df['Churn Score'].std(),2))\n",
        "print(round(df['Churn Score'].var(),2))\n",
        "print(df['Churn Score'].describe())\n",
        "\n",
        "q3=75\n",
        "q1=40\n",
        "IQR= q3-q1\n",
        "print(round(IQR,2))\n",
        "\n"
      ],
      "metadata": {
        "colab": {
          "base_uri": "https://localhost:8080/"
        },
        "id": "C73aH8e5Co0u",
        "outputId": "194dec94-9696-4bc2-ac6c-e17e19cac884"
      },
      "execution_count": null,
      "outputs": [
        {
          "output_type": "stream",
          "name": "stdout",
          "text": [
            "58.7\n",
            "61.0\n",
            "21.53\n",
            "463.33\n",
            "count    7043.000000\n",
            "mean       58.699418\n",
            "std        21.525131\n",
            "min         5.000000\n",
            "25%        40.000000\n",
            "50%        61.000000\n",
            "75%        75.000000\n",
            "max       100.000000\n",
            "Name: Churn Score, dtype: float64\n",
            "35\n"
          ]
        }
      ]
    },
    {
      "cell_type": "code",
      "source": [
        "#For numerical columns we can calculate all the measures of central tendency(mean,median,mode) and measures of dispersion(Variance,Standard deviation,IQR)\n",
        "# except mode.IQR=Interquartile range\n",
        "\n",
        "#measures of central tendency\n",
        "print(round(df['CLTV'].mean(),2))\n",
        "print(round(df['CLTV'].median(),2))\n",
        "#measures of dispersion\n",
        "print(round(df['CLTV'].std(),2))\n",
        "print(round(df['CLTV'].var(),2))\n",
        "print(df['CLTV'].describe())\n",
        "\n",
        "\n",
        "q3=5380.50\n",
        "q1=3469.00\n",
        "IQR= q3-q1\n",
        "print(round(IQR,2))\n",
        "\n"
      ],
      "metadata": {
        "colab": {
          "base_uri": "https://localhost:8080/"
        },
        "id": "szE-NXUYEHrc",
        "outputId": "f2567317-9ba2-4db8-fdac-7dfa59a8de8e"
      },
      "execution_count": null,
      "outputs": [
        {
          "output_type": "stream",
          "name": "stdout",
          "text": [
            "4400.3\n",
            "4527.0\n",
            "1183.06\n",
            "1399624.22\n",
            "count    7043.000000\n",
            "mean     4400.295755\n",
            "std      1183.057152\n",
            "min      2003.000000\n",
            "25%      3469.000000\n",
            "50%      4527.000000\n",
            "75%      5380.500000\n",
            "max      6500.000000\n",
            "Name: CLTV, dtype: float64\n",
            "1911.5\n"
          ]
        }
      ]
    },
    {
      "cell_type": "markdown",
      "source": [
        "Q3: What is the percentage of females and senior citizens in this data set? Please create appropriate plots and explain the plots."
      ],
      "metadata": {
        "id": "L-JGT7JybS_K"
      }
    },
    {
      "cell_type": "code",
      "source": [
        "\n",
        "\n",
        "#To calculate the percentage of females in this dataset I have first calculated the count of Males and Females by using the 'value_counts()' function.\n",
        "#This function gives us the count of different values in a particular column.Here I have used the Gender column to know the count of Males and Females.\n",
        "#Then I moved to the visualization part:\n",
        "#plt.figure(figsize=(w,h)) : It is used to set the width and height of your plot\n",
        "#plt.title('title') : It is used to give a title to your plot\n",
        "#In the values variable I have assigned the count of Males and Females respectively\n",
        "#In the next step I have given labels to those values as Male and Female\n",
        "#In the next step I have set the colors for those values.\n",
        "#explode is used to divide the pie chart into pieces\n",
        "#Then I have used the plt.pie function and fed all the variables in there \n",
        "#Then Finally I have used the plt.show() function to reveal the plot.\n",
        "#shadow=True adds shadow to your pie chart\n",
        "#autopct converts the values into percentages.\n",
        "\n",
        "\n",
        "#The same steps are being followed to calculate the percentage of senior citizens\n",
        "\n",
        "\n",
        "df.value_counts('Gender')"
      ],
      "metadata": {
        "colab": {
          "base_uri": "https://localhost:8080/"
        },
        "id": "HMZ7K2p7h2uj",
        "outputId": "89f659f7-7df0-4f8d-f250-4bea365243ac"
      },
      "execution_count": 20,
      "outputs": [
        {
          "output_type": "execute_result",
          "data": {
            "text/plain": [
              "Gender\n",
              "Male      3555\n",
              "Female    3488\n",
              "dtype: int64"
            ]
          },
          "metadata": {},
          "execution_count": 20
        }
      ]
    },
    {
      "cell_type": "code",
      "source": [
        "plt.figure(figsize=(7,7))\n",
        "plt.title('Percentage of Males & Females')\n",
        "values=[3555,3488]\n",
        "labels=['Male','Female']\n",
        "colors=('Cyan','Pink')\n",
        "explode=(0.1,0.1)\n",
        "plt.pie(values,labels=labels,colors=colors,explode=explode,shadow=True,autopct='%1.1f%%')\n",
        "plt.show()"
      ],
      "metadata": {
        "colab": {
          "base_uri": "https://localhost:8080/",
          "height": 427
        },
        "id": "Yg1uBHQRjW32",
        "outputId": "c4469298-6a2b-410c-cce6-70fe415ca5e7"
      },
      "execution_count": 21,
      "outputs": [
        {
          "output_type": "display_data",
          "data": {
            "text/plain": [
              "<Figure size 504x504 with 1 Axes>"
            ],
            "image/png": "[encoded data removed]"
          },
          "metadata": {}
        }
      ]
    },
    {
      "cell_type": "code",
      "source": [
        "df.value_counts('Senior Citizen')"
      ],
      "metadata": {
        "colab": {
          "base_uri": "https://localhost:8080/"
        },
        "id": "8nRvVYlPnjnX",
        "outputId": "55783191-fe95-47fd-ba98-c93e3ed4aa47"
      },
      "execution_count": 22,
      "outputs": [
        {
          "output_type": "execute_result",
          "data": {
            "text/plain": [
              "Senior Citizen\n",
              "No     5901\n",
              "Yes    1142\n",
              "dtype: int64"
            ]
          },
          "metadata": {},
          "execution_count": 22
        }
      ]
    },
    {
      "cell_type": "code",
      "source": [
        "plt.figure(figsize=(7,7))\n",
        "plt.title('Percentage of Senior Citizens')\n",
        "values=[5901,1142]\n",
        "labels=['Non Senior Citizens','Senior Citizens']\n",
        "colors=('Orange','Grey')\n",
        "explode=(0.1,0.1)\n",
        "plt.pie(values,labels=labels,colors=colors,explode=explode,shadow=True,autopct='%1.1f%%')\n",
        "plt.show()"
      ],
      "metadata": {
        "colab": {
          "base_uri": "https://localhost:8080/",
          "height": 427
        },
        "id": "jOH_V7o9njYJ",
        "outputId": "168b9d35-3ba9-49e2-bd8f-57dff6d6a3e2"
      },
      "execution_count": 23,
      "outputs": [
        {
          "output_type": "display_data",
          "data": {
            "text/plain": [
              "<Figure size 504x504 with 1 Axes>"
            ],
            "image/png": "[encoded data removed]"
          },
          "metadata": {}
        }
      ]
    },
    {
      "cell_type": "markdown",
      "source": [
        "Q4:Please create an appropriate plot to examine the distribution of the tenure month column and explain the distribution. Based on distribution, \n",
        "perform appropriate statistical measures. Please also explain if the variable is symmetric or skewed. Please calculate it. Explain everything as asked.\n"
      ],
      "metadata": {
        "id": "gwJ7RiJBbaEG"
      }
    },
    {
      "cell_type": "code",
      "source": [
        "#Q4:Please create an appropriate plot to examine the distribution of the tenure month column and explain the distribution. Based on distribution, \n",
        "#perform appropriate statistical measures. Please also explain if the variable is symmetric or skewed. Please calculate it. Explain everything as asked.\n",
        "\n",
        "#Here to calculate the distribution of tenure months column I have used a displot\n",
        "sns.displot(x='Tenure Months',data=df,color='b',bins=10,kde=True)\n",
        "plt.title('Distribution of Tenure Months')\n",
        "plt.show()"
      ],
      "metadata": {
        "colab": {
          "base_uri": "https://localhost:8080/",
          "height": 402
        },
        "id": "ZGjrfg5Dy7Fq",
        "outputId": "d772d7eb-4398-42ce-bee5-b993d54f2d3d"
      },
      "execution_count": null,
      "outputs": [
        {
          "output_type": "display_data",
          "data": {
            "text/plain": [
              "<Figure size 720x504 with 0 Axes>"
            ]
          },
          "metadata": {}
        },
        {
          "output_type": "display_data",
          "data": {
            "text/plain": [
              "<Figure size 360x360 with 1 Axes>"
            ],
            "image/png": "[encoded data removed]"
          },
          "metadata": {
            "needs_background": "light"
          }
        }
      ]
    },
    {
      "cell_type": "code",
      "source": [
        "#Now as seen above the plot is fairly symmetrical so the robust measure of central tendency is 'mean' and the robust measure of dispersion is 'Standard Deviation'\n",
        "#So I have calculated both:\n",
        "\n",
        "\n",
        "print(df['Tenure Months'].describe())\n",
        "#The describe() function gives us the count,mean,standard deviation,min value,max value,25th,50th,75th percentile of a column as seen below\n",
        "\n",
        "\n"
      ],
      "metadata": {
        "colab": {
          "base_uri": "https://localhost:8080/"
        },
        "id": "qb8lvJZo73KL",
        "outputId": "c8ecd8ba-2c60-4ba6-d9e9-ee06415c2fcb"
      },
      "execution_count": null,
      "outputs": [
        {
          "output_type": "stream",
          "name": "stdout",
          "text": [
            "count    7043.000000\n",
            "mean       32.371149\n",
            "std        24.559481\n",
            "min         0.000000\n",
            "25%         9.000000\n",
            "50%        29.000000\n",
            "75%        55.000000\n",
            "max        72.000000\n",
            "Name: Tenure Months, dtype: float64\n"
          ]
        }
      ]
    },
    {
      "cell_type": "code",
      "source": [
        "#The data is fairly symmetrical as the skewness value is between 0 and 0.5\n",
        "#Skewness value:\n",
        "round(df['Tenure Months'].skew(),2) #here I have used the round function to round off the skewness value"
      ],
      "metadata": {
        "colab": {
          "base_uri": "https://localhost:8080/"
        },
        "id": "8QvWp_b_8fnM",
        "outputId": "67342495-712d-4e25-e42f-6de55b539a6a"
      },
      "execution_count": 24,
      "outputs": [
        {
          "output_type": "execute_result",
          "data": {
            "text/plain": [
              "0.24"
            ]
          },
          "metadata": {},
          "execution_count": 24
        }
      ]
    },
    {
      "cell_type": "markdown",
      "source": [
        "Q5: Please convert all binary columns into 0 and 1 using appropriate programming constructs, not one by one."
      ],
      "metadata": {
        "id": "VtnlPjd1bvts"
      }
    },
    {
      "cell_type": "code",
      "source": [
        "\n",
        "\n",
        "#For this question I have used the get_dummies function to convert all Binary columns into 0 and 1 which creates two separate columns for the binary values \n",
        "#of a particular column so I have dropped one of the columns and renamed the other to get the desired output\n",
        "\n",
        "df_1=pd.get_dummies(df[['Gender','Partner','Senior Citizen','Dependents','Phone Service','Paperless Billing','Churn Label']]) \n",
        "\n",
        "droppingcols=['Gender_Female','Partner_No','Senior Citizen_No','Dependents_No','Phone Service_No','Paperless Billing_No','Churn Label_No']\n",
        "df_1=df_1.drop(droppingcols,axis=1)\n",
        "\n",
        "df_1=df_1.rename(columns={'Gender_Male':'Gender','Partner_Yes':'Partner','Senior Citizen_Yes':'Senior Citizen','Dependents_Yes':'Dependents',\n",
        "                          'Phone Service_Yes':'Phone Service','Paperless Billing_Yes':'Paperless Billing','Churn Label_Yes':'Churn Label'})\n",
        "\n",
        "df_1\n",
        "\n",
        "\n",
        "\n"
      ],
      "metadata": {
        "id": "LROz2vhyD7T3",
        "colab": {
          "base_uri": "https://localhost:8080/",
          "height": 424
        },
        "outputId": "8c3ae17d-a608-4f39-b54c-c060e4a60e38"
      },
      "execution_count": 28,
      "outputs": [
        {
          "output_type": "execute_result",
          "data": {
            "text/plain": [
              "      Gender  Partner  Senior Citizen  Dependents  Phone Service  \\\n",
              "0          1        0               0           0              1   \n",
              "1          0        0               0           1              1   \n",
              "2          0        0               0           1              1   \n",
              "3          0        1               0           1              1   \n",
              "4          1        0               0           1              1   \n",
              "...      ...      ...             ...         ...            ...   \n",
              "7038       0        0               0           0              1   \n",
              "7039       1        1               0           1              1   \n",
              "7040       0        1               0           1              1   \n",
              "7041       0        1               0           1              0   \n",
              "7042       1        0               0           0              1   \n",
              "\n",
              "      Paperless Billing  Churn Label  \n",
              "0                     1            1  \n",
              "1                     1            1  \n",
              "2                     1            1  \n",
              "3                     1            1  \n",
              "4                     1            1  \n",
              "...                 ...          ...  \n",
              "7038                  1            0  \n",
              "7039                  1            0  \n",
              "7040                  1            0  \n",
              "7041                  1            0  \n",
              "7042                  1            0  \n",
              "\n",
              "[7043 rows x 7 columns]"
            ],
            "text/html": [
              "\n",
              "  <div id=\"df-7bbd43bf-8f1f-4f07-b83a-c61ed87df71a\">\n",
              "    <div class=\"colab-df-container\">\n",
              "      <div>\n",
              "<style scoped>\n",
              "    .dataframe tbody tr th:only-of-type {\n",
              "        vertical-align: middle;\n",
              "    }\n",
              "\n",
              "    .dataframe tbody tr th {\n",
              "        vertical-align: top;\n",
              "    }\n",
              "\n",
              "    .dataframe thead th {\n",
              "        text-align: right;\n",
              "    }\n",
              "</style>\n",
              "<table border=\"1\" class=\"dataframe\">\n",
              "  <thead>\n",
              "    <tr style=\"text-align: right;\">\n",
              "      <th></th>\n",
              "      <th>Gender</th>\n",
              "      <th>Partner</th>\n",
              "      <th>Senior Citizen</th>\n",
              "      <th>Dependents</th>\n",
              "      <th>Phone Service</th>\n",
              "      <th>Paperless Billing</th>\n",
              "      <th>Churn Label</th>\n",
              "    </tr>\n",
              "  </thead>\n",
              "  <tbody>\n",
              "    <tr>\n",
              "      <th>0</th>\n",
              "      <td>1</td>\n",
              "      <td>0</td>\n",
              "      <td>0</td>\n",
              "      <td>0</td>\n",
              "      <td>1</td>\n",
              "      <td>1</td>\n",
              "      <td>1</td>\n",
              "    </tr>\n",
              "    <tr>\n",
              "      <th>1</th>\n",
              "      <td>0</td>\n",
              "      <td>0</td>\n",
              "      <td>0</td>\n",
              "      <td>1</td>\n",
              "      <td>1</td>\n",
              "      <td>1</td>\n",
              "      <td>1</td>\n",
              "    </tr>\n",
              "    <tr>\n",
              "      <th>2</th>\n",
              "      <td>0</td>\n",
              "      <td>0</td>\n",
              "      <td>0</td>\n",
              "      <td>1</td>\n",
              "      <td>1</td>\n",
              "      <td>1</td>\n",
              "      <td>1</td>\n",
              "    </tr>\n",
              "    <tr>\n",
              "      <th>3</th>\n",
              "      <td>0</td>\n",
              "      <td>1</td>\n",
              "      <td>0</td>\n",
              "      <td>1</td>\n",
              "      <td>1</td>\n",
              "      <td>1</td>\n",
              "      <td>1</td>\n",
              "    </tr>\n",
              "    <tr>\n",
              "      <th>4</th>\n",
              "      <td>1</td>\n",
              "      <td>0</td>\n",
              "      <td>0</td>\n",
              "      <td>1</td>\n",
              "      <td>1</td>\n",
              "      <td>1</td>\n",
              "      <td>1</td>\n",
              "    </tr>\n",
              "    <tr>\n",
              "      <th>...</th>\n",
              "      <td>...</td>\n",
              "      <td>...</td>\n",
              "      <td>...</td>\n",
              "      <td>...</td>\n",
              "      <td>...</td>\n",
              "      <td>...</td>\n",
              "      <td>...</td>\n",
              "    </tr>\n",
              "    <tr>\n",
              "      <th>7038</th>\n",
              "      <td>0</td>\n",
              "      <td>0</td>\n",
              "      <td>0</td>\n",
              "      <td>0</td>\n",
              "      <td>1</td>\n",
              "      <td>1</td>\n",
              "      <td>0</td>\n",
              "    </tr>\n",
              "    <tr>\n",
              "      <th>7039</th>\n",
              "      <td>1</td>\n",
              "      <td>1</td>\n",
              "      <td>0</td>\n",
              "      <td>1</td>\n",
              "      <td>1</td>\n",
              "      <td>1</td>\n",
              "      <td>0</td>\n",
              "    </tr>\n",
              "    <tr>\n",
              "      <th>7040</th>\n",
              "      <td>0</td>\n",
              "      <td>1</td>\n",
              "      <td>0</td>\n",
              "      <td>1</td>\n",
              "      <td>1</td>\n",
              "      <td>1</td>\n",
              "      <td>0</td>\n",
              "    </tr>\n",
              "    <tr>\n",
              "      <th>7041</th>\n",
              "      <td>0</td>\n",
              "      <td>1</td>\n",
              "      <td>0</td>\n",
              "      <td>1</td>\n",
              "      <td>0</td>\n",
              "      <td>1</td>\n",
              "      <td>0</td>\n",
              "    </tr>\n",
              "    <tr>\n",
              "      <th>7042</th>\n",
              "      <td>1</td>\n",
              "      <td>0</td>\n",
              "      <td>0</td>\n",
              "      <td>0</td>\n",
              "      <td>1</td>\n",
              "      <td>1</td>\n",
              "      <td>0</td>\n",
              "    </tr>\n",
              "  </tbody>\n",
              "</table>\n",
              "<p>7043 rows × 7 columns</p>\n",
              "</div>\n",
              "      <button class=\"colab-df-convert\" onclick=\"convertToInteractive('df-7bbd43bf-8f1f-4f07-b83a-c61ed87df71a')\"\n",
              "              title=\"Convert this dataframe to an interactive table.\"\n",
              "              style=\"display:none;\">\n",
              "        \n",
              "  <svg xmlns=\"http://www.w3.org/2000/svg\" height=\"24px\"viewBox=\"0 0 24 24\"\n",
              "       width=\"24px\">\n",
              "    <path d=\"M0 0h24v24H0V0z\" fill=\"none\"/>\n",
              "    <path d=\"M18.56 5.44l.94 2.06.94-2.06 2.06-.94-2.06-.94-.94-2.06-.94 2.06-2.06.94zm-11 1L8.5 8.5l.94-2.06 2.06-.94-2.06-.94L8.5 2.5l-.94 2.06-2.06.94zm10 10l.94 2.06.94-2.06 2.06-.94-2.06-.94-.94-2.06-.94 2.06-2.06.94z\"/><path d=\"M17.41 7.96l-1.37-1.37c-.4-.4-.92-.59-1.43-.59-.52 0-1.04.2-1.43.59L10.3 9.45l-7.72 7.72c-.78.78-.78 2.05 0 2.83L4 21.41c.39.39.9.59 1.41.59.51 0 1.02-.2 1.41-.59l7.78-7.78 2.81-2.81c.8-.78.8-2.07 0-2.86zM5.41 20L4 18.59l7.72-7.72 1.47 1.35L5.41 20z\"/>\n",
              "  </svg>\n",
              "      </button>\n",
              "      \n",
              "  <style>\n",
              "    .colab-df-container {\n",
              "      display:flex;\n",
              "      flex-wrap:wrap;\n",
              "      gap: 12px;\n",
              "    }\n",
              "\n",
              "    .colab-df-convert {\n",
              "      background-color: #E8F0FE;\n",
              "      border: none;\n",
              "      border-radius: 50%;\n",
              "      cursor: pointer;\n",
              "      display: none;\n",
              "      fill: #1967D2;\n",
              "      height: 32px;\n",
              "      padding: 0 0 0 0;\n",
              "      width: 32px;\n",
              "    }\n",
              "\n",
              "    .colab-df-convert:hover {\n",
              "      background-color: #E2EBFA;\n",
              "      box-shadow: 0px 1px 2px rgba(60, 64, 67, 0.3), 0px 1px 3px 1px rgba(60, 64, 67, 0.15);\n",
              "      fill: #174EA6;\n",
              "    }\n",
              "\n",
              "    [theme=dark] .colab-df-convert {\n",
              "      background-color: #3B4455;\n",
              "      fill: #D2E3FC;\n",
              "    }\n",
              "\n",
              "    [theme=dark] .colab-df-convert:hover {\n",
              "      background-color: #434B5C;\n",
              "      box-shadow: 0px 1px 3px 1px rgba(0, 0, 0, 0.15);\n",
              "      filter: drop-shadow(0px 1px 2px rgba(0, 0, 0, 0.3));\n",
              "      fill: #FFFFFF;\n",
              "    }\n",
              "  </style>\n",
              "\n",
              "      <script>\n",
              "        const buttonEl =\n",
              "          document.querySelector('#df-7bbd43bf-8f1f-4f07-b83a-c61ed87df71a button.colab-df-convert');\n",
              "        buttonEl.style.display =\n",
              "          google.colab.kernel.accessAllowed ? 'block' : 'none';\n",
              "\n",
              "        async function convertToInteractive(key) {\n",
              "          const element = document.querySelector('#df-7bbd43bf-8f1f-4f07-b83a-c61ed87df71a');\n",
              "          const dataTable =\n",
              "            await google.colab.kernel.invokeFunction('convertToInteractive',\n",
              "                                                     [key], {});\n",
              "          if (!dataTable) return;\n",
              "\n",
              "          const docLinkHtml = 'Like what you see? Visit the ' +\n",
              "            '<a target=\"_blank\" href=https://colab.research.google.com/notebooks/data_table.ipynb>data table notebook</a>'\n",
              "            + ' to learn more about interactive tables.';\n",
              "          element.innerHTML = '';\n",
              "          dataTable['output_type'] = 'display_data';\n",
              "          await google.colab.output.renderOutput(dataTable, element);\n",
              "          const docLink = document.createElement('div');\n",
              "          docLink.innerHTML = docLinkHtml;\n",
              "          element.appendChild(docLink);\n",
              "        }\n",
              "      </script>\n",
              "    </div>\n",
              "  </div>\n",
              "  "
            ]
          },
          "metadata": {},
          "execution_count": 28
        }
      ]
    },
    {
      "cell_type": "markdown",
      "source": [
        "Q6: Please examine the distribution of monthly charges between males and females using box plots. Please explain the results also. \n"
      ],
      "metadata": {
        "id": "r2BxtzQROKmp"
      }
    },
    {
      "cell_type": "code",
      "source": [
        "\n",
        "#For this purpose I have used the boxplot to show the distribution of monthly charges between males and females\n",
        "plt.figure(figsize=(10,7)) #plt.figure is used toset the width & height of the plot\n",
        "sns.boxplot(x='Gender',y='Monthly Charges',data=df,color='b')#Here you can pass the column names.'data' is used to specify your dataframe.'color' is used \n",
        "#to specify the colour\n",
        "plt.title('Distribution of Monthly Charges between Male and Female')#Used to give Title to your plot\n",
        "plt.show()"
      ],
      "metadata": {
        "colab": {
          "base_uri": "https://localhost:8080/",
          "height": 458
        },
        "id": "845rL2F7JuA_",
        "outputId": "bc561f21-4541-4bf5-bfc2-ea683f5af7da"
      },
      "execution_count": 30,
      "outputs": [
        {
          "output_type": "display_data",
          "data": {
            "text/plain": [
              "<Figure size 720x504 with 1 Axes>"
            ],
            "image/png": "[encoded data removed]"
          },
          "metadata": {
            "needs_background": "light"
          }
        }
      ]
    },
    {
      "cell_type": "code",
      "source": [
        "#The above plot shows us that the Distribution of Monthly Charges between Male and Female is almost equal i.e. Rs.35 to Rs.90"
      ],
      "metadata": {
        "id": "jPn_vsUMNLWw"
      },
      "execution_count": 31,
      "outputs": []
    },
    {
      "cell_type": "markdown",
      "source": [
        "Q7: Please find what is the minimum total charges for Los Angeles city. Please find which zip code has the maximum total charges."
      ],
      "metadata": {
        "id": "XikDGjGLOVRn"
      }
    },
    {
      "cell_type": "code",
      "source": [
        "Los_Angeles=df.query(\"City=='Los Angeles'\") #First I have filtered the data where the City is Los Angeles using df.query\n",
        "Los_Angeles.groupby('City')['Total Charges'].min()#Then I have used the groupby function to display Min Total Charges for Los Angeles City\n",
        "#Minimum Total charges for Los Angeles City is 18.55 as seen below\n"
      ],
      "metadata": {
        "colab": {
          "base_uri": "https://localhost:8080/"
        },
        "id": "5a_EgdW9OMSr",
        "outputId": "bb332337-0f45-4cd7-c0e6-e379773a32d5"
      },
      "execution_count": 37,
      "outputs": [
        {
          "output_type": "execute_result",
          "data": {
            "text/plain": [
              "City\n",
              "Los Angeles    18.8\n",
              "Name: Total Charges, dtype: float64"
            ]
          },
          "metadata": {},
          "execution_count": 37
        }
      ]
    },
    {
      "cell_type": "code",
      "source": [
        "df.groupby('Zip Code')['Total Charges'].max()#Here I have used the groupby function to display Max Total Charges per Zip Code"
      ],
      "metadata": {
        "colab": {
          "base_uri": "https://localhost:8080/"
        },
        "id": "1aYP4EEuh70p",
        "outputId": "e82c5533-d9cc-4c73-9b05-17f22288fd8f"
      },
      "execution_count": 36,
      "outputs": [
        {
          "output_type": "execute_result",
          "data": {
            "text/plain": [
              "Zip Code\n",
              "90001    7634.25\n",
              "90002    3653.00\n",
              "90003    5597.65\n",
              "90004    3870.30\n",
              "90005    4921.20\n",
              "          ...   \n",
              "96145    8035.95\n",
              "96146    4859.10\n",
              "96148    7432.05\n",
              "96150    4026.40\n",
              "96161     305.55\n",
              "Name: Total Charges, Length: 1652, dtype: float64"
            ]
          },
          "metadata": {},
          "execution_count": 36
        }
      ]
    },
    {
      "cell_type": "markdown",
      "source": [
        "Q8: Please find which payment method has the highest churn score and which has the lowest churn score."
      ],
      "metadata": {
        "id": "sNeGf6STiKB4"
      }
    },
    {
      "cell_type": "code",
      "source": [
        "plt.figure(figsize=(10,8))\n",
        "sns.lineplot(x='Payment Method',y='Churn Score',data=df,color='b')\n",
        "plt.title('Highest and lowest Churn Score with respect to Payment Method')\n",
        "plt.show()"
      ],
      "metadata": {
        "colab": {
          "base_uri": "https://localhost:8080/",
          "height": 513
        },
        "id": "bwmVHD8OTfcJ",
        "outputId": "643a2624-40e0-41a6-bd06-786ba5f1e6b3"
      },
      "execution_count": 38,
      "outputs": [
        {
          "output_type": "display_data",
          "data": {
            "text/plain": [
              "<Figure size 720x576 with 1 Axes>"
            ],
            "image/png": "[encoded data removed]"
          },
          "metadata": {
            "needs_background": "light"
          }
        }
      ]
    },
    {
      "cell_type": "code",
      "source": [
        "#From the above plot it is clear that Electronic check has the highest churn score and Credit Card(automatic) has the lowest churn score"
      ],
      "metadata": {
        "id": "umH8oeWxpHKd"
      },
      "execution_count": null,
      "outputs": []
    },
    {
      "cell_type": "markdown",
      "source": [
        "Q9: Please create an appropriate plot to check the count of payment methods and explain it."
      ],
      "metadata": {
        "id": "LCu7pMXTnCAv"
      }
    },
    {
      "cell_type": "code",
      "source": [
        "\n",
        "plt.figure(figsize=(10,7))\n",
        "plt.title('Count of Payment Methods')\n",
        "sns.countplot(x='Payment Method',data=df,color='c')\n",
        "plt.show()\n"
      ],
      "metadata": {
        "colab": {
          "base_uri": "https://localhost:8080/",
          "height": 458
        },
        "id": "lmro4fMPXFS3",
        "outputId": "81b21177-f3df-4b66-f1c9-266d6ea376cf"
      },
      "execution_count": 39,
      "outputs": [
        {
          "output_type": "display_data",
          "data": {
            "text/plain": [
              "<Figure size 720x504 with 1 Axes>"
            ],
            "image/png": "[encoded data removed]"
          },
          "metadata": {
            "needs_background": "light"
          }
        }
      ]
    },
    {
      "cell_type": "code",
      "source": [
        "#The Electronic Check Payment Method has the highest count and the Credit Card Payment Method has the lowest whereas Mailed Check and Bank Transfer payment methods have more or less the same count"
      ],
      "metadata": {
        "id": "US_e9VLSYzuz"
      },
      "execution_count": null,
      "outputs": []
    },
    {
      "cell_type": "markdown",
      "source": [
        "Q10: Please create an appropriate plot to see the relationship between monthly charges and total charges."
      ],
      "metadata": {
        "id": "QoSdQ0SsnY4M"
      }
    },
    {
      "cell_type": "code",
      "source": [
        "plt.figure(figsize=(10,7))\n",
        "sns.scatterplot(x='Monthly Charges',y='Total Charges',data=df,color='purple')\n",
        "plt.title('Relationship Between Monthly Charges and Total Charges')\n",
        "plt.show()\n",
        "#As seen in the plot below there is a linear relationship between Monthly Charges and Total Charges. As the Total Charges increases Monthly charges increases.\n",
        "\n"
      ],
      "metadata": {
        "id": "6-QBZKpyZcKB",
        "colab": {
          "base_uri": "https://localhost:8080/",
          "height": 458
        },
        "outputId": "4eb79656-544a-4a21-cd27-24c7aef54895"
      },
      "execution_count": 44,
      "outputs": [
        {
          "output_type": "display_data",
          "data": {
            "text/plain": [
              "<Figure size 720x504 with 1 Axes>"
            ],
            "image/png": "[encoded data removed]"
          },
          "metadata": {
            "needs_background": "light"
          }
        }
      ]
    }
  ]
}